{
 "cells": [
  {
   "cell_type": "code",
   "execution_count": 86,
   "metadata": {},
   "outputs": [],
   "source": [
    "import matplotlib.pyplot as plt\n",
    "import numpy as np\n",
    "import pandas as pd"
   ]
  },
  {
   "cell_type": "code",
   "execution_count": 34,
   "metadata": {},
   "outputs": [],
   "source": [
    "X_test = np.array([36961, 43621, 15694,  36231, 29945, 40588, 75255, 37709, 25486, 37497, 40398, 74105, 76725, 18317])\n",
    "y_test = np.array([2503, 2992, 1042, 2487, 2014, 2805, 5062, 2643, 2126, 1784, 2641, 2766, 5047, 5312, 1215])"
   ]
  },
  {
   "cell_type": "code",
   "execution_count": 87,
   "metadata": {},
   "outputs": [
    {
     "name": "stdout",
     "output_type": "stream",
     "text": [
      "0     36961\n",
      "1     43621\n",
      "2     15694\n",
      "3     36231\n",
      "4     29945\n",
      "5     40588\n",
      "6     75255\n",
      "7     37709\n",
      "8     30899\n",
      "9     25486\n",
      "10    37497\n",
      "11    40398\n",
      "12    74105\n",
      "13    76725\n",
      "14    18317\n",
      "Name: 0, dtype: int64\n"
     ]
    }
   ],
   "source": [
    "data = pd.read_csv('salammbo_a_fr.plot.txt', sep=\" \", delimiter =\"\\t\", header=None)\n",
    "X = data.iloc[:,0]\n",
    "Y = data.iloc[:,1]\n",
    "print(X)"
   ]
  },
  {
   "cell_type": "code",
   "execution_count": 96,
   "metadata": {},
   "outputs": [
    {
     "name": "stdout",
     "output_type": "stream",
     "text": [
      "0.06847698899474461 1.672973316997938e-06\n"
     ]
    }
   ],
   "source": [
    "a = 0\n",
    "b = 0\n",
    "\n",
    "L = 0.0000000001  # The learning Rate\n",
    "epochs = 1000  # number of epochs\n",
    "\n",
    "n = float(len(X)) # Number of elements in X\n",
    "\n",
    "# Performing Gradient Descent \n",
    "for i in range(epochs): \n",
    "    Y_pred = a*X + b  \n",
    "    #Computer the derivatives\n",
    "    phi_a = (-2/n) * sum(X * (Y - Y_pred))  \n",
    "    phi_b = (-2/n) * sum(Y - Y_pred)  \n",
    "    a = a - L * phi_a  # Update the slope\n",
    "    b = b - L * phi_b  # Update the bias\n",
    "    \n",
    "print (a, b)"
   ]
  },
  {
   "cell_type": "code",
   "execution_count": 97,
   "metadata": {},
   "outputs": [
    {
     "data": {
      "image/png": "[encoded data removed]",
      "text/plain": [
       "<Figure size 432x288 with 1 Axes>"
      ]
     },
     "metadata": {
      "needs_background": "light"
     },
     "output_type": "display_data"
    }
   ],
   "source": [
    "# Making predictions\n",
    "Y_pred = a*X + b\n",
    "\n",
    "plt.scatter(X, Y) \n",
    "plt.plot([min(X), max(X)], [min(Y_pred), max(Y_pred)], color='red')  # regression line\n",
    "plt.show()"
   ]
  },
  {
   "cell_type": "code",
   "execution_count": null,
   "metadata": {},
   "outputs": [],
   "source": []
  }
 ],
 "metadata": {
  "kernelspec": {
   "display_name": "Python 3",
   "language": "python",
   "name": "python3"
  },
  "language_info": {
   "codemirror_mode": {
    "name": "ipython",
    "version": 3
   },
   "file_extension": ".py",
   "mimetype": "text/x-python",
   "name": "python",
   "nbconvert_exporter": "python",
   "pygments_lexer": "ipython3",
   "version": "3.7.0"
  }
 },
 "nbformat": 4,
 "nbformat_minor": 2
}
