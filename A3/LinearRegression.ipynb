{
 "cells": [
  {
   "cell_type": "code",
   "execution_count": 35,
   "metadata": {},
   "outputs": [],
   "source": [
    "import matplotlib.pyplot as plt\n",
    "import numpy as np\n",
    "import pandas as pd"
   ]
  },
  {
   "cell_type": "code",
   "execution_count": 36,
   "metadata": {},
   "outputs": [],
   "source": [
    "X_test = np.array([36961, 43621, 15694,  36231, 29945, 40588, 75255, 37709, 25486, 37497, 40398, 74105, 76725, 18317])\n",
    "y_test = np.array([2503, 2992, 1042, 2487, 2014, 2805, 5062, 2643, 2126, 1784, 2641, 2766, 5047, 5312, 1215])"
   ]
  },
  {
   "cell_type": "code",
   "execution_count": 37,
   "metadata": {},
   "outputs": [],
   "source": [
    "data1 = pd.read_csv('salammbo_a_fr.plot.txt', sep=\" \", delimiter =\"\\t\", header=None)\n",
    "X1 = data1.iloc[:,0]\n",
    "Y1 = data1.iloc[:,1]\n",
    "\n",
    "data2 = pd.read_csv('salammbo_a_en.plot.txt', sep=\" \", delimiter =\"\\t\", header=None)\n",
    "X2 = data2.iloc[:,0]\n",
    "Y2 = data2.iloc[:,1]"
   ]
  },
  {
   "cell_type": "code",
   "execution_count": 38,
   "metadata": {},
   "outputs": [
    {
     "name": "stdout",
     "output_type": "stream",
     "text": [
      "0.06847698900010711 1.4062108540940604e-06\n"
     ]
    }
   ],
   "source": [
    "a = 0\n",
    "b = 0\n",
    "\n",
    "L = 0.00000000001  # The learning Rate\n",
    "epochs = 1000  # number of epochs\n",
    "\n",
    "n1 = float(len(X1)) # Number of elements in X\n",
    "\n",
    "# Performing Gradient Descent \n",
    "for i in range(epochs): \n",
    "    Y_pred1 = a*X1 + b  \n",
    "    #Computer the derivatives\n",
    "    phi_a = (-2/n1) * sum(X1 * (Y1 - Y_pred1))  \n",
    "    phi_b = (-2/n1) * sum(Y1 - Y_pred1)  \n",
    "    a = a - L * phi_a  # Update the slope\n",
    "    b = b - L * phi_b  # Update the bias\n",
    "    \n",
    "print (a, b)"
   ]
  },
  {
   "cell_type": "code",
   "execution_count": 39,
   "metadata": {},
   "outputs": [
    {
     "name": "stdout",
     "output_type": "stream",
     "text": [
      "0.06422770093179068 1.3011817826116835e-06\n"
     ]
    }
   ],
   "source": [
    "u = 0\n",
    "v = 0\n",
    "\n",
    "L = 0.00000000001  # The learning Rate\n",
    "epochs = 1000  # number of epochs\n",
    "\n",
    "n2 = float(len(X1)) # Number of elements in X\n",
    "\n",
    "# Performing Gradient Descent \n",
    "for i in range(epochs): \n",
    "    Y_pred2 = u*X2 + v  \n",
    "    #Computer the derivatives\n",
    "    phi_u = (-2/n2) * sum(X2 * (Y2 - Y_pred2))  \n",
    "    phi_v = (-2/n2) * sum(Y2 - Y_pred2)  \n",
    "    u = u - L * phi_u  # Update the slope\n",
    "    v = v - L * phi_v # Update the bias\n",
    "    \n",
    "print (u, v)"
   ]
  },
  {
   "cell_type": "code",
   "execution_count": 40,
   "metadata": {},
   "outputs": [
    {
     "data": {
      "image/png": "[encoded data removed]",
      "text/plain": [
       "<Figure size 432x288 with 1 Axes>"
      ]
     },
     "metadata": {
      "needs_background": "light"
     },
     "output_type": "display_data"
    }
   ],
   "source": [
    "# Making predictions\n",
    "Y_pred1 = a*X1 + b\n",
    "Y_pred2 = u*X2 + v\n",
    "\n",
    "plt.scatter(X1, Y1)\n",
    "plt.scatter(X2, Y2)\n",
    "plt.plot([min(X1), max(X1)], [min(Y_pred1), max(Y_pred1)], color='red')  # regression line\n",
    "plt.plot([min(X2), max(X2)], [min(Y_pred2), max(Y_pred2)], color='green')  # regression line\n",
    "plt.show()"
   ]
  },
  {
   "cell_type": "code",
   "execution_count": null,
   "metadata": {},
   "outputs": [],
   "source": []
  }
 ],
 "metadata": {
  "kernelspec": {
   "display_name": "Python 3",
   "language": "python",
   "name": "python3"
  },
  "language_info": {
   "codemirror_mode": {
    "name": "ipython",
    "version": 3
   },
   "file_extension": ".py",
   "mimetype": "text/x-python",
   "name": "python",
   "nbconvert_exporter": "python",
   "pygments_lexer": "ipython3",
   "version": "3.7.0"
  }
 },
 "nbformat": 4,
 "nbformat_minor": 2
}
